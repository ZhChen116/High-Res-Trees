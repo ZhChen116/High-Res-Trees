{
 "cells": [
  {
   "cell_type": "code",
   "execution_count": 5,
   "metadata": {},
   "outputs": [
    {
     "data": {
      "text/plain": [
       "'/Users/zc56/Documents/CommenDesktop/RICE/MyProject/Bayes_Tensor_Tree/serverBTR/Tensor_Tree_Model_Summary.pptx'"
      ]
     },
     "execution_count": 5,
     "metadata": {},
     "output_type": "execute_result"
    }
   ],
   "source": [
    "from pptx import Presentation\n",
    "from pptx.util import Inches\n",
    "from PIL import Image\n",
    "\n",
    "# Create a PowerPoint presentation object\n",
    "prs = Presentation()\n",
    "\n",
    "# Define slide titles and content\n",
    "slides_content = [\n",
    "    {\"title\": \"Tensor Tree Model Summary\", \"content\": \"\"},\n",
    "    {\"title\": \"Base Model\", \n",
    "     \"content\": \"1.1 Tree Model\\n\\n\"\n",
    "                \"Y_i = f(X_i) + ε_i, i = 1,...,n\\n\\n\"\n",
    "                \"f(X; T, h) = Σ_j m_j(X) · I(X ∈ R_j)\\n\\n\"\n",
    "                \"Where:\\n\"\n",
    "                \"- m_j(X) = mean(X ∈ R_j)\\n\"\n",
    "                \"Types of regions R_j:\\n\"\n",
    "                \"- CP/Tucker regions\\n\"\n",
    "                \"- Bayes Tensor regions R_j in Bayes Tensor Reg (Kanun 2017)\"\n",
    "    },\n",
    "    {\"title\": \"Loss Functions\", \n",
    "     \"content\": \"1.2 Loss Functions (Induced by 1 split)\\n\\n\"\n",
    "                \"(1) Squared Error (SE)\\n\"\n",
    "                \"SE(j_0, j_1, j_2) = 1/2 Σ_i (y_i - ŷ_R)²\\n\\n\"\n",
    "                \"(2) Least Absolute Error (LAE)\\n\"\n",
    "                \"LAE(j_0, j_1, j_2) = 1/2 Σ_i |X_i - X̂_R|\\n\\n\"\n",
    "                \"(3) Least Reduced Error (LRE)\\n\"\n",
    "                \"LRE(j_0, j_1, j_2) = 1/2 Σ_i ||X_i - X̂_R||_F²\"\n",
    "    },\n",
    "    {\"title\": \"Search Method\", \n",
    "     \"content\": \"1.3 Search Method\\n\\n\"\n",
    "                \"(1) Comprehensive Search\\n\"\n",
    "                \"∀ (j_1, j_2) ∈ X.shape(1) × X.shape(2),\\n\"\n",
    "                \"find best j_0* such that SSE is minimized.\\n\\n\"\n",
    "                \"- Compare all (j_1, j_2) to fix split at (j_0*, j_1*, j_2*)\\n\\n\"\n",
    "                \"(2) LS: Compute Var(X[:, j_1, j_2]) ∀ (j_1, j_2)\\n\"\n",
    "                \"Sample based on Var(X[:, j_1, j_2])\\n\"\n",
    "                \"Report (j_1) within smaller search space.\"\n",
    "    },\n",
    "    {\"title\": \"Branch and Bound\", \n",
    "     \"content\": \"Branch and Bound Search Visualization\"\n",
    "    }\n",
    "]\n",
    "\n",
    "# # Add slides to presentation based on the content\n",
    "# for slide_info in slides_content:\n",
    "#     slide_layout = prs.slide_layouts[1]  # Use the 'Title and Content' slide layout\n",
    "#     slide = prs.slides.add_slide(slide_layout)\n",
    "#     title = slide.shapes.title\n",
    "#     content = slide.placeholders[1]\n",
    "#     title.text = slide_info[\"title\"]\n",
    "#     content.text = slide_info[\"content\"]\n",
    "\n",
    "# # Add the diagram image to the \"Branch and Bound\" slide (Slide 5)\n",
    "# img_path = \"/Users/zc56/Documents/CommenDesktop/RICE/MyProject/Bayes_Tensor_Tree/serverBTR/2CB96426-4F0E-4B9D-B6B0-3FF7A457308E.jpeg\"\n",
    "# slide_5 = prs.slides[4]\n",
    "# img = Image.open(img_path)\n",
    "\n",
    "# # Add image to slide 5\n",
    "# left = Inches(1.5)\n",
    "# top = Inches(2)\n",
    "# slide_5.shapes.add_picture(img_path, left, top, height=Inches(3))\n",
    "\n",
    "# Save presentation\n",
    "output_pptx = \"/Users/zc56/Documents/CommenDesktop/RICE/MyProject/Bayes_Tensor_Tree/serverBTR/Tensor_Tree_Model_Summary.pptx\"\n",
    "prs.save(output_pptx)\n",
    "\n",
    "output_pptx\n"
   ]
  }
 ],
 "metadata": {
  "kernelspec": {
   "display_name": "Python 3",
   "language": "python",
   "name": "python3"
  },
  "language_info": {
   "codemirror_mode": {
    "name": "ipython",
    "version": 3
   },
   "file_extension": ".py",
   "mimetype": "text/x-python",
   "name": "python",
   "nbconvert_exporter": "python",
   "pygments_lexer": "ipython3",
   "version": "3.12.2"
  }
 },
 "nbformat": 4,
 "nbformat_minor": 2
}
