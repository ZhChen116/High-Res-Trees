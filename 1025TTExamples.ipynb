{
 "cells": [
  {
   "cell_type": "markdown",
   "metadata": {},
   "source": [
    "Figure 2."
   ]
  },
  {
   "cell_type": "code",
   "execution_count": 2,
   "metadata": {},
   "outputs": [],
   "source": [
    "# sliced 3D real image\n",
    "import warnings\n",
    "warnings.filterwarnings(\"ignore\")\n",
    "\n",
    "\n",
    "import numpy as np\n",
    "from concurrent.futures import ProcessPoolExecutor\n",
    "import time\n",
    "from sklearn.metrics import mean_squared_error\n",
    "from sklearn.model_selection import train_test_split\n",
    "import tensorly as tl\n",
    "\n",
    "#Debugging import\n",
    "import importlib\n",
    "var = 'TensorDecisionTreeRegressorP' #the published version of code\n",
    "package = importlib.import_module(var)\n",
    "for name, value in package.__dict__.items():\n",
    "    if not name.startswith(\"__\"):\n",
    "        globals()[name] = value\n",
    "\n",
    "from TensorDecisionTreeRegressorP import *\n",
    "\n",
    "import os\n",
    "import nibabel as nib\n",
    "import numpy as np\n",
    "import matplotlib as plt\n",
    "import pandas as pd\n",
    "from sklearn.model_selection import train_test_split"
   ]
  },
  {
   "cell_type": "code",
   "execution_count": 8,
   "metadata": {},
   "outputs": [
    {
     "name": "stdout",
     "output_type": "stream",
     "text": [
      "0.43829588865781954\n",
      "0.4379740908733154\n",
      "0.44129308422868735\n"
     ]
    }
   ],
   "source": [
    "import matplotlib.pyplot as plt\n",
    "\n",
    "# Set parameters\n",
    "np.random.seed(42)\n",
    "n = 500  # first dimension of X\n",
    "p1, p2 = 5, 4  # second and third dimensions of X\n",
    "sigma_vals = [0, 0.01, 0.1]  # Noise levels (sigma^2 values)\n",
    "\n",
    "# Generate the tensor X uniformly randomly from [-1, 1]\n",
    "X = np.random.uniform(-1, 1, size=(n, p1, p2))\n",
    "\n",
    "# Define the true model for y\n",
    "def generate_y(X, sigma):\n",
    "    epsilon = np.random.normal(0, sigma, size=n)\n",
    "    y = 2 * X[:, 0, 1] * X[:, 2, 0] * X[:, 3, 0] + 3 * X[:, 1, 0] * X[:, 2, 0] * X[:, 3, 0] + epsilon\n",
    "    return y\n",
    "\n",
    "# Generate the data for different noise levels\n",
    "data = {}\n",
    "for sigma in sigma_vals:\n",
    "    y = generate_y(X, sigma)\n",
    "    data[f\"sigma_{sigma}\"] = y\n",
    "\n",
    "print(np.var(data['sigma_0']))\n",
    "print(np.var(data['sigma_0.01']))\n",
    "print(np.var(data['sigma_0.1']))\n"
   ]
  },
  {
   "cell_type": "code",
   "execution_count": 9,
   "metadata": {},
   "outputs": [
    {
     "ename": "TypeError",
     "evalue": "'NoneType' object is not iterable",
     "output_type": "error",
     "traceback": [
      "\u001b[0;31m---------------------------------------------------------------------------\u001b[0m",
      "\u001b[0;31mTypeError\u001b[0m                                 Traceback (most recent call last)",
      "Cell \u001b[0;32mIn[9], line 4\u001b[0m\n\u001b[1;32m      2\u001b[0m \u001b[38;5;28;01mfor\u001b[39;00m i \u001b[38;5;129;01min\u001b[39;00m \u001b[38;5;28mrange\u001b[39m(\u001b[38;5;241m5\u001b[39m):\n\u001b[1;32m      3\u001b[0m     model  \u001b[38;5;241m=\u001b[39m  TensorDecisionTreeRegressor(max_depth\u001b[38;5;241m=\u001b[39m\u001b[38;5;241m10\u001b[39m, min_samples_split\u001b[38;5;241m=\u001b[39m\u001b[38;5;241m12\u001b[39m,split_method\u001b[38;5;241m=\u001b[39m\u001b[38;5;124m'\u001b[39m\u001b[38;5;124mvariance\u001b[39m\u001b[38;5;124m'\u001b[39m, split_rank\u001b[38;5;241m=\u001b[39m\u001b[38;5;241m4\u001b[39m, CP_reg_rank\u001b[38;5;241m=\u001b[39m\u001b[38;5;241m3\u001b[39m, Tucker_reg_rank\u001b[38;5;241m=\u001b[39m\u001b[38;5;241m3\u001b[39m, n_mode\u001b[38;5;241m=\u001b[39m\u001b[38;5;241m4\u001b[39m, const_array\u001b[38;5;241m=\u001b[39m\u001b[38;5;28;01mNone\u001b[39;00m)\n\u001b[0;32m----> 4\u001b[0m     \u001b[43mmodel\u001b[49m\u001b[38;5;241;43m.\u001b[39;49m\u001b[43mfit\u001b[49m\u001b[43m(\u001b[49m\u001b[43mX_train\u001b[49m\u001b[43m,\u001b[49m\u001b[43my_train\u001b[49m\u001b[43m)\u001b[49m\n\u001b[1;32m      6\u001b[0m     predictions \u001b[38;5;241m=\u001b[39m model\u001b[38;5;241m.\u001b[39mpredict(X_train,regression_method\u001b[38;5;241m=\u001b[39m\u001b[38;5;124m'\u001b[39m\u001b[38;5;124mmean\u001b[39m\u001b[38;5;124m'\u001b[39m)\n\u001b[1;32m      7\u001b[0m     \u001b[38;5;28mprint\u001b[39m(\u001b[38;5;124mf\u001b[39m\u001b[38;5;124m\"\u001b[39m\u001b[38;5;124mmean train RSE: \u001b[39m\u001b[38;5;124m\"\u001b[39m, np\u001b[38;5;241m.\u001b[39mmean((predictions\u001b[38;5;241m-\u001b[39my_train)\u001b[38;5;241m*\u001b[39m\u001b[38;5;241m*\u001b[39m\u001b[38;5;241m2\u001b[39m)\u001b[38;5;241m/\u001b[39mnp\u001b[38;5;241m.\u001b[39mvar(y_train))\n",
      "File \u001b[0;32m~/Documents/CommenDesktop/RICE/MyProject/Bayes_Tensor_Tree/serverBTR/TensorDecisionTreeRegressorP.py:573\u001b[0m, in \u001b[0;36mTensorDecisionTreeRegressor.fit\u001b[0;34m(self, X, y)\u001b[0m\n\u001b[1;32m    571\u001b[0m     \u001b[38;5;28mself\u001b[39m\u001b[38;5;241m.\u001b[39mn_mode \u001b[38;5;241m=\u001b[39m \u001b[38;5;241m4\u001b[39m\n\u001b[1;32m    572\u001b[0m     \u001b[38;5;28mself\u001b[39m\u001b[38;5;241m.\u001b[39mmode1, \u001b[38;5;28mself\u001b[39m\u001b[38;5;241m.\u001b[39mmode2, \u001b[38;5;28mself\u001b[39m\u001b[38;5;241m.\u001b[39mmode3, \u001b[38;5;28mself\u001b[39m\u001b[38;5;241m.\u001b[39mmode4 \u001b[38;5;241m=\u001b[39m X\u001b[38;5;241m.\u001b[39mshape\n\u001b[0;32m--> 573\u001b[0m \u001b[38;5;28mself\u001b[39m\u001b[38;5;241m.\u001b[39mroot \u001b[38;5;241m=\u001b[39m \u001b[38;5;28;43mself\u001b[39;49m\u001b[38;5;241;43m.\u001b[39;49m\u001b[43m_build_tree\u001b[49m\u001b[43m(\u001b[49m\u001b[43mX\u001b[49m\u001b[43m,\u001b[49m\u001b[43m \u001b[49m\u001b[43my\u001b[49m\u001b[43m)\u001b[49m\n",
      "File \u001b[0;32m~/Documents/CommenDesktop/RICE/MyProject/Bayes_Tensor_Tree/serverBTR/TensorDecisionTreeRegressorP.py:493\u001b[0m, in \u001b[0;36mTensorDecisionTreeRegressor._build_tree\u001b[0;34m(self, X, y, depth)\u001b[0m\n\u001b[1;32m    491\u001b[0m \u001b[38;5;28;01mdef\u001b[39;00m \u001b[38;5;21m_build_tree\u001b[39m(\u001b[38;5;28mself\u001b[39m, X, y, depth\u001b[38;5;241m=\u001b[39m\u001b[38;5;241m0\u001b[39m):\n\u001b[1;32m    492\u001b[0m     \u001b[38;5;28;01mif\u001b[39;00m \u001b[38;5;28mlen\u001b[39m(y) \u001b[38;5;241m>\u001b[39m\u001b[38;5;241m=\u001b[39m \u001b[38;5;28mself\u001b[39m\u001b[38;5;241m.\u001b[39mmin_samples_split \u001b[38;5;129;01mand\u001b[39;00m depth \u001b[38;5;241m<\u001b[39m \u001b[38;5;28mself\u001b[39m\u001b[38;5;241m.\u001b[39mmax_depth:\n\u001b[0;32m--> 493\u001b[0m         feature_index, threshold, loss \u001b[38;5;241m=\u001b[39m \u001b[38;5;28;43mself\u001b[39;49m\u001b[38;5;241;43m.\u001b[39;49m\u001b[43m_get_best_split\u001b[49m\u001b[43m(\u001b[49m\u001b[43mX\u001b[49m\u001b[43m,\u001b[49m\u001b[43m \u001b[49m\u001b[43my\u001b[49m\u001b[43m,\u001b[49m\u001b[43m \u001b[49m\u001b[43mdepth\u001b[49m\u001b[43m)\u001b[49m\n\u001b[1;32m    494\u001b[0m         \u001b[38;5;28;01mif\u001b[39;00m feature_index \u001b[38;5;129;01mis\u001b[39;00m \u001b[38;5;28;01mNone\u001b[39;00m:\n\u001b[1;32m    495\u001b[0m             \u001b[38;5;28;01mif\u001b[39;00m \u001b[38;5;28mself\u001b[39m\u001b[38;5;241m.\u001b[39mn_mode \u001b[38;5;241m==\u001b[39m \u001b[38;5;241m3\u001b[39m:\n",
      "File \u001b[0;32m~/Documents/CommenDesktop/RICE/MyProject/Bayes_Tensor_Tree/serverBTR/TensorDecisionTreeRegressorP.py:317\u001b[0m, in \u001b[0;36mTensorDecisionTreeRegressor._get_best_split\u001b[0;34m(self, X, y, depth)\u001b[0m\n\u001b[1;32m    315\u001b[0m \u001b[38;5;66;03m# Define optimization strategy\u001b[39;00m\n\u001b[1;32m    316\u001b[0m \u001b[38;5;28;01mif\u001b[39;00m optimization_method \u001b[38;5;241m==\u001b[39m \u001b[38;5;124m'\u001b[39m\u001b[38;5;124mexhaustive\u001b[39m\u001b[38;5;124m'\u001b[39m:\n\u001b[0;32m--> 317\u001b[0m     const_set \u001b[38;5;241m=\u001b[39m \u001b[38;5;28;43mset\u001b[39;49m\u001b[43m(\u001b[49m\u001b[38;5;28;43mself\u001b[39;49m\u001b[38;5;241;43m.\u001b[39;49m\u001b[43mconst_array\u001b[49m\u001b[43m)\u001b[49m\n\u001b[1;32m    318\u001b[0m     indices \u001b[38;5;241m=\u001b[39m np\u001b[38;5;241m.\u001b[39mndindex(X\u001b[38;5;241m.\u001b[39mshape[\u001b[38;5;241m1\u001b[39m:])\n\u001b[1;32m    319\u001b[0m     complement_list \u001b[38;5;241m=\u001b[39m [index \u001b[38;5;28;01mfor\u001b[39;00m index \u001b[38;5;129;01min\u001b[39;00m indices \u001b[38;5;28;01mif\u001b[39;00m index \u001b[38;5;129;01mnot\u001b[39;00m \u001b[38;5;129;01min\u001b[39;00m const_set]\n",
      "\u001b[0;31mTypeError\u001b[0m: 'NoneType' object is not iterable"
     ]
    }
   ],
   "source": [
    "X_train, y_train, X_test, y_test = train_test_split(X, data['sigma_0.01'], test_size=0.3, random_state=42)\n",
    "for i in range(5):\n",
    "    model  =  TensorDecisionTreeRegressor(max_depth=10, min_samples_split=12,split_method='variance', split_rank=4, CP_reg_rank=3, Tucker_reg_rank=3, n_mode=4, const_array=None)\n",
    "    model.fit(X_train,y_train)\n",
    "\n",
    "    predictions = model.predict(X_train,regression_method='mean')\n",
    "    print(f\"mean train RSE: \", np.mean((predictions-y_train)**2)/np.var(y_train))\n",
    "    predictions = model.predict(X_train,regression_method='cp')\n",
    "    print(f\"CP train RSE: \", np.mean((predictions-y_train)**2)/np.var(y_train))\n",
    "    predictions = model.predict(X_train,regression_method='tucker')\n",
    "    print(f\"Tucker train RSE: \", np.mean((predictions-y_train)**2)/np.var(y_train)) \n",
    "\n",
    "    predictions = model.predict(X_test,regression_method='mean')\n",
    "    print(f\"mean test RSE: \", np.mean((predictions-y_test)**2)/np.var(y_test))\n",
    "    predictions = model.predict(X_test,regression_method='cp')\n",
    "    print(f\"CP test RSE: \", np.mean((predictions-y_test)**2)/np.var(y_test))\n",
    "    predictions = model.predict(X_test,regression_method='tucker')\n",
    "    print(f\"Tucker test RSE: \", np.mean((predictions-y_test)**2)/np.var(y_test))"
   ]
  }
 ],
 "metadata": {
  "kernelspec": {
   "display_name": "Python 3",
   "language": "python",
   "name": "python3"
  },
  "language_info": {
   "codemirror_mode": {
    "name": "ipython",
    "version": 3
   },
   "file_extension": ".py",
   "mimetype": "text/x-python",
   "name": "python",
   "nbconvert_exporter": "python",
   "pygments_lexer": "ipython3",
   "version": "3.12.6"
  }
 },
 "nbformat": 4,
 "nbformat_minor": 2
}
